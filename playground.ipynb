{
 "cells": [
  {
   "cell_type": "code",
   "execution_count": 3,
   "metadata": {},
   "outputs": [],
   "source": [
    "import re\n",
    "# Expresiones regulares útiles para el parseo del documento\n",
    "title_sum_re = re.compile(r\"##(?P<title>.+)##\\n(?P<summary>((?!==.+==).+|\\n)+)(?P<rest>(.+|\\n)*)\")\n",
    "sections_re = re.compile(r\"==.+==\\n\")\n",
    "section_re = re.compile(r\"==(?P<name>.+)==\\n(?P<text>((?!--.+--).+|\\n)*)(?P<rest>(.+|\\n)*)\")\n",
    "subsections_re = re.compile(r\"--.+--\\n\")\n",
    "subsection_re = re.compile(r\"--(?P<name>.+)--\\n(?P<text>(.+|\\n)*)\")"
   ]
  },
  {
   "cell_type": "code",
   "execution_count": 22,
   "metadata": {},
   "outputs": [],
   "source": [
    "text_raw = \"\"\"\n",
    "##Videojuego##\n",
    "Descripsion\n",
    "==Historia==\n",
    "Los origenes del videojuego se remontan a la década de 1950, cuando poco después de la ...\n",
    "==Generalidades==\n",
    "Tipicamente, los videojuegos recrean entornos y situaciones virtuales en los que el ....\n",
    "Dependiendo del videojuego, una partida puede disputarla una sola persona contra la ...\n",
    "Existen videojuegos de muchos tipos. Algunos de los géneros más representativos son los ...\n",
    "--Tecnologia--\n",
    "Un videojuego se ejecuta gracias a un programa de software (el videojuego en si) que es ...\n",
    "\n",
    "\n",
    "\n",
    "\n",
    "...\n",
    "--Plataformas--\n",
    "Los distintos tipos de dispositivo en los que se ejecutan los videojuegos se conocen como ...\n",
    "--Géneros--\n",
    "Los videojuegos se pueden clasificar en géneros atendiendo a factores ...\n",
    "--Multijugador--\n",
    "En muchos juegos se puede encontrar la opción de multijugador, es decir, que varias personas ...\n",
    "==Industria del videojuego==\n",
    "\"\"\""
   ]
  },
  {
   "cell_type": "code",
   "execution_count": 23,
   "metadata": {},
   "outputs": [
    {
     "name": "stdout",
     "output_type": "stream",
     "text": [
      "##Videojuego##\n",
      "Descripsion\n",
      "==Historia==\n",
      "Los origenes del videojuego se remontan a la década de 1950, cuando poco después de la ...\n",
      "==Generalidades==\n",
      "Tipicamente, los videojuegos recrean entornos y situaciones virtuales en los que el ....\n",
      "Dependiendo del videojuego, una partida puede disputarla una sola persona contra la ...\n",
      "Existen videojuegos de muchos tipos. Algunos de los géneros más representativos son los ...\n",
      "--Tecnologia--\n",
      "Un videojuego se ejecuta gracias a un programa de software (el videojuego en si) que es ...\n",
      "...\n",
      "--Plataformas--\n",
      "Los distintos tipos de dispositivo en los que se ejecutan los videojuegos se conocen como ...\n",
      "--Géneros--\n",
      "Los videojuegos se pueden clasificar en géneros atendiendo a factores ...\n",
      "--Multijugador--\n",
      "En muchos juegos se puede encontrar la opción de multijugador, es decir, que varias personas ...\n",
      "==Industria del videojuego==\n"
     ]
    }
   ],
   "source": [
    "def clean_text(txt):\n",
    "    return '\\n'.join(l for l in txt.split('\\n') if len(l) > 0)\n",
    "\n",
    "text_clean = clean_text(text_raw)\n",
    "print(text_clean)"
   ]
  },
  {
   "cell_type": "code",
   "execution_count": 24,
   "metadata": {},
   "outputs": [
    {
     "name": "stdout",
     "output_type": "stream",
     "text": [
      "Hay match\n",
      "Videojuego \n",
      " Descripsion\n",
      "\n",
      "==Historia==\n",
      "Los origenes del videojuego se remontan a la década de 1950, cuando poco después de la ...\n",
      "==Generalidades==\n",
      "Tipicamente, los videojuegos recrean entornos y situaciones virtuales en los que el ....\n",
      "Dependiendo del videojuego, una partida puede disputarla una sola persona contra la ...\n",
      "Existen videojuegos de muchos tipos. Algunos de los géneros más representativos son los ...\n",
      "--Tecnologia--\n",
      "Un videojuego se ejecuta gracias a un programa de software (el videojuego en si) que es ...\n",
      "...\n",
      "--Plataformas--\n",
      "Los distintos tipos de dispositivo en los que se ejecutan los videojuegos se conocen como ...\n",
      "--Géneros--\n",
      "Los videojuegos se pueden clasificar en géneros atendiendo a factores ...\n",
      "--Multijugador--\n",
      "En muchos juegos se puede encontrar la opción de multijugador, es decir, que varias personas ...\n",
      "==Industria del videojuego==\n"
     ]
    }
   ],
   "source": [
    "title_summary_match = title_sum_re.search(text_clean)\n",
    "if title_summary_match:\n",
    "    print(\"Hay match\")\n",
    "    print(title_summary_match.group(\"title\"), '\\n')\n",
    "    print(title_summary_match.group(\"summary\"))\n",
    "    rest = title_summary_match.group(\"rest\")\n",
    "    print(rest)\n",
    "else:\n",
    "    print(\"No hay match\")"
   ]
  },
  {
   "cell_type": "code",
   "execution_count": null,
   "metadata": {},
   "outputs": [],
   "source": []
  }
 ],
 "metadata": {
  "kernelspec": {
   "display_name": "Python 3",
   "language": "python",
   "name": "python3"
  },
  "language_info": {
   "codemirror_mode": {
    "name": "ipython",
    "version": 3
   },
   "file_extension": ".py",
   "mimetype": "text/x-python",
   "name": "python",
   "nbconvert_exporter": "python",
   "pygments_lexer": "ipython3",
   "version": "3.10.12"
  }
 },
 "nbformat": 4,
 "nbformat_minor": 2
}
